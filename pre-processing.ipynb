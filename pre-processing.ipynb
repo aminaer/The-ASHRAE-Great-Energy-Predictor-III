{
 "cells": [
  {
   "cell_type": "code",
   "execution_count": 1,
   "metadata": {
    "_cell_guid": "b1076dfc-b9ad-4769-8c92-a6c4dae69d19",
    "_uuid": "8f2839f25d086af736a60e9eeb907d3b93b6e0e5",
    "execution": {
     "iopub.execute_input": "2021-01-26T19:04:11.709491Z",
     "iopub.status.busy": "2021-01-26T19:04:11.708763Z",
     "iopub.status.idle": "2021-01-26T19:04:13.267188Z",
     "shell.execute_reply": "2021-01-26T19:04:13.266500Z"
    },
    "papermill": {
     "duration": 1.57639,
     "end_time": "2021-01-26T19:04:13.267401",
     "exception": false,
     "start_time": "2021-01-26T19:04:11.691011",
     "status": "completed"
    },
    "tags": []
   },
   "outputs": [
    {
     "data": {
      "text/html": [
       "<style type='text/css'>\n",
       ".datatable table.frame { margin-bottom: 0; }\n",
       ".datatable table.frame thead { border-bottom: none; }\n",
       ".datatable table.frame tr.coltypes td {  color: #FFFFFF;  line-height: 6px;  padding: 0 0.5em;}\n",
       ".datatable .bool    { background: #DDDD99; }\n",
       ".datatable .object  { background: #565656; }\n",
       ".datatable .int     { background: #5D9E5D; }\n",
       ".datatable .float   { background: #4040CC; }\n",
       ".datatable .str     { background: #CC4040; }\n",
       ".datatable .row_index {  background: var(--jp-border-color3);  border-right: 1px solid var(--jp-border-color0);  color: var(--jp-ui-font-color3);  font-size: 9px;}\n",
       ".datatable .frame tr.coltypes .row_index {  background: var(--jp-border-color0);}\n",
       ".datatable th:nth-child(2) { padding-left: 12px; }\n",
       ".datatable .hellipsis {  color: var(--jp-cell-editor-border-color);}\n",
       ".datatable .vellipsis {  background: var(--jp-layout-color0);  color: var(--jp-cell-editor-border-color);}\n",
       ".datatable .na {  color: var(--jp-cell-editor-border-color);  font-size: 80%;}\n",
       ".datatable .footer { font-size: 9px; }\n",
       ".datatable .frame_dimensions {  background: var(--jp-border-color3);  border-top: 1px solid var(--jp-border-color0);  color: var(--jp-ui-font-color3);  display: inline-block;  opacity: 0.6;  padding: 1px 10px 1px 5px;}\n",
       "</style>\n"
      ],
      "text/plain": [
       "<IPython.core.display.HTML object>"
      ]
     },
     "metadata": {},
     "output_type": "display_data"
    },
    {
     "name": "stdout",
     "output_type": "stream",
     "text": [
      "/kaggle/input/pre-processing/data_training.csv\n",
      "/kaggle/input/pre-processing/__results__.html\n",
      "/kaggle/input/pre-processing/test_data.csv\n",
      "/kaggle/input/pre-processing/__notebook__.ipynb\n",
      "/kaggle/input/pre-processing/__output__.json\n",
      "/kaggle/input/pre-processing/custom.css\n",
      "/kaggle/input/pre-processing/__results___files/__results___65_0.png\n",
      "/kaggle/input/pre-processing/__results___files/__results___8_0.png\n",
      "/kaggle/input/pre-processing/__results___files/__results___9_0.png\n",
      "/kaggle/input/pre-processing/__results___files/__results___60_0.png\n",
      "/kaggle/input/pre-processing/__results___files/__results___35_0.png\n",
      "/kaggle/input/pre-processing/__results___files/__results___63_0.png\n",
      "/kaggle/input/pre-processing/__results___files/__results___58_0.png\n",
      "/kaggle/input/pre-processing/__results___files/__results___54_0.png\n",
      "/kaggle/input/pre-processing/__results___files/__results___64_0.png\n",
      "/kaggle/input/ashrae-energy-prediction/sample_submission.csv\n",
      "/kaggle/input/ashrae-energy-prediction/building_metadata.csv\n",
      "/kaggle/input/ashrae-energy-prediction/weather_train.csv\n",
      "/kaggle/input/ashrae-energy-prediction/weather_test.csv\n",
      "/kaggle/input/ashrae-energy-prediction/train.csv\n",
      "/kaggle/input/ashrae-energy-prediction/test.csv\n"
     ]
    }
   ],
   "source": [
    "# This Python 3 environment comes with many helpful analytics libraries installed\n",
    "# It is defined by the kaggle/python Docker image: https://github.com/kaggle/docker-python\n",
    "# For example, here's several helpful packages to load\n",
    "\n",
    "import numpy as np # linear algebra\n",
    "import pandas as pd # data processing, CSV file I/O (e.g. pd.read_csv)\n",
    "import warnings\n",
    "import datetime\n",
    "import gc\n",
    "from sklearn.tree import DecisionTreeRegressor\n",
    "from sklearn.linear_model import LinearRegression\n",
    "from sklearn.model_selection import train_test_split,KFold\n",
    "from sklearn.metrics import mean_squared_error\n",
    "\n",
    "\n",
    "import numpy as np\n",
    "from matplotlib import pyplot as plt\n",
    "import seaborn as sns\n",
    "import lightgbm as lgb\n",
    "\n",
    "%matplotlib inline\n",
    "from sklearn.feature_selection import RFE, f_regression\n",
    "from sklearn.linear_model import (LinearRegression, Ridge, Lasso,LogisticRegression)\n",
    "from sklearn.preprocessing import MinMaxScaler\n",
    "from sklearn.impute import SimpleImputer\n",
    "\n",
    "from sklearn.ensemble import RandomForestRegressor\n",
    "from math import sqrt\n",
    "import matplotlib.pyplot as plt\n",
    "import seaborn as sns; sns.set()\n",
    "\n",
    "# Input data files are available in the read-only \"../input/\" directory\n",
    "# For example, running this (by clicking run or pressing Shift+Enter) will list all files under the input directory\n",
    "\n",
    "import os\n",
    "for dirname, _, filenames in os.walk('/kaggle/input'):\n",
    "    for filename in filenames:\n",
    "        print(os.path.join(dirname, filename))\n",
    "\n",
    "# You can write up to 20GB to the current directory (/kaggle/working/) that gets preserved as output when you create a version using \"Save & Run All\" \n",
    "# You can also write temporary files to /kaggle/temp/, but they won't be saved outside of the current session\n"
   ]
  },
  {
   "cell_type": "code",
   "execution_count": 2,
   "metadata": {
    "execution": {
     "iopub.execute_input": "2021-01-26T19:04:13.308926Z",
     "iopub.status.busy": "2021-01-26T19:04:13.308241Z",
     "iopub.status.idle": "2021-01-26T19:04:13.314354Z",
     "shell.execute_reply": "2021-01-26T19:04:13.314880Z"
    },
    "papermill": {
     "duration": 0.032395,
     "end_time": "2021-01-26T19:04:13.315065",
     "exception": false,
     "start_time": "2021-01-26T19:04:13.282670",
     "status": "completed"
    },
    "tags": []
   },
   "outputs": [],
   "source": [
    "def reduce_mem_usage(df):\n",
    "    \"\"\" iterate through all the columns of a dataframe and modify the data type\n",
    "        to reduce memory usage.        \n",
    "    \"\"\"\n",
    "    start_mem = df.memory_usage().sum() / 1024**2\n",
    "    print('Memory usage of dataframe is {:.2f} MB'.format(start_mem))\n",
    "    \n",
    "\n",
    "    for col in df.columns:\n",
    "        col_type = df[col].dtype\n",
    "        \n",
    "        if col_type != object:\n",
    "            c_min = df[col].min()\n",
    "            c_max = df[col].max()\n",
    "            if str(col_type)[:3] == 'int':\n",
    "                if c_min > np.iinfo(np.int8).min and c_max < np.iinfo(np.int8).max:\n",
    "                    df[col] = df[col].astype(np.int8)\n",
    "                elif c_min > np.iinfo(np.int16).min and c_max < np.iinfo(np.int16).max:\n",
    "                    df[col] = df[col].astype(np.int16)\n",
    "                elif c_min > np.iinfo(np.int32).min and c_max < np.iinfo(np.int32).max:\n",
    "                    df[col] = df[col].astype(np.int32)\n",
    "                elif c_min > np.iinfo(np.int64).min and c_max < np.iinfo(np.int64).max:\n",
    "                    df[col] = df[col].astype(np.int64)  \n",
    "            else:\n",
    "                if c_min > np.finfo(np.float16).min and c_max < np.finfo(np.float16).max:\n",
    "                    df[col] = df[col].astype(np.float16)\n",
    "                elif c_min > np.finfo(np.float32).min and c_max < np.finfo(np.float32).max:\n",
    "                    df[col] = df[col].astype(np.float32)\n",
    "                else:\n",
    "                    df[col] = df[col].astype(np.float64)\n",
    "        \n",
    "\n",
    "    end_mem = df.memory_usage().sum() / 1024**2\n",
    "    print('Memory usage after optimization is: {:.2f} MB'.format(end_mem))\n",
    "    print('Decreased by {:.1f}%'.format(100 * (start_mem - end_mem) / start_mem))\n",
    "    \n",
    "    return df\n",
    "\n",
    "\n",
    "def import_data(file):\n",
    "    \"\"\"create a dataframe and optimize its memory usage\"\"\"\n",
    "    df = pd.read_csv(file, parse_dates=True, keep_date_col=True)\n",
    "    df = reduce_mem_usage(df)\n",
    "    return df"
   ]
  },
  {
   "cell_type": "code",
   "execution_count": 3,
   "metadata": {
    "execution": {
     "iopub.execute_input": "2021-01-26T19:04:13.348075Z",
     "iopub.status.busy": "2021-01-26T19:04:13.347424Z",
     "iopub.status.idle": "2021-01-26T19:04:13.352574Z",
     "shell.execute_reply": "2021-01-26T19:04:13.353188Z"
    },
    "papermill": {
     "duration": 0.023204,
     "end_time": "2021-01-26T19:04:13.353350",
     "exception": false,
     "start_time": "2021-01-26T19:04:13.330146",
     "status": "completed"
    },
    "tags": []
   },
   "outputs": [],
   "source": [
    "def missing_statistics(df):    \n",
    "    statitics = pd.DataFrame(df.isnull().sum()).reset_index()\n",
    "    statitics.columns=['COLUMN NAME',\"MISSING VALUES\"]\n",
    "    statitics['TOTAL ROWS'] = df.shape[0]\n",
    "    statitics['% MISSING'] = round((statitics['MISSING VALUES']/statitics['TOTAL ROWS'])*100,2)\n",
    "    return statitics"
   ]
  },
  {
   "cell_type": "code",
   "execution_count": 4,
   "metadata": {
    "collapsed": true,
    "execution": {
     "iopub.execute_input": "2021-01-26T19:04:13.388767Z",
     "iopub.status.busy": "2021-01-26T19:04:13.388051Z",
     "iopub.status.idle": "2021-01-26T19:07:02.105425Z",
     "shell.execute_reply": "2021-01-26T19:07:02.105909Z"
    },
    "papermill": {
     "duration": 168.737956,
     "end_time": "2021-01-26T19:07:02.106105",
     "exception": false,
     "start_time": "2021-01-26T19:04:13.368149",
     "status": "completed"
    },
    "tags": []
   },
   "outputs": [
    {
     "name": "stdout",
     "output_type": "stream",
     "text": [
      "--------------------------------------------------------------------------------\n",
      "train\n",
      "Memory usage of dataframe is 2610.25 MB\n",
      "Memory usage after optimization is: 844.49 MB\n",
      "Decreased by 67.6%\n",
      "--------------------------------------------------------------------------------\n",
      "test\n",
      "Memory usage of dataframe is 5090.04 MB\n",
      "Memory usage after optimization is: 1709.94 MB\n",
      "Decreased by 66.4%\n"
     ]
    }
   ],
   "source": [
    "\n",
    "print('-' * 80)\n",
    "print('train')\n",
    "training = import_data('/kaggle/input/pre-processing/data_training.csv')\n",
    "\n",
    "print('-' * 80)\n",
    "print('test')\n",
    "data_test = import_data('/kaggle/input/pre-processing/test_data.csv')\n",
    "\n"
   ]
  },
  {
   "cell_type": "code",
   "execution_count": 5,
   "metadata": {
    "execution": {
     "iopub.execute_input": "2021-01-26T19:07:10.430771Z",
     "iopub.status.busy": "2021-01-26T19:07:10.429292Z",
     "iopub.status.idle": "2021-01-26T19:07:11.888036Z",
     "shell.execute_reply": "2021-01-26T19:07:11.887408Z"
    },
    "papermill": {
     "duration": 9.765716,
     "end_time": "2021-01-26T19:07:11.888186",
     "exception": false,
     "start_time": "2021-01-26T19:07:02.122470",
     "status": "completed"
    },
    "tags": []
   },
   "outputs": [
    {
     "data": {
      "text/html": [
       "<div>\n",
       "<style scoped>\n",
       "    .dataframe tbody tr th:only-of-type {\n",
       "        vertical-align: middle;\n",
       "    }\n",
       "\n",
       "    .dataframe tbody tr th {\n",
       "        vertical-align: top;\n",
       "    }\n",
       "\n",
       "    .dataframe thead th {\n",
       "        text-align: right;\n",
       "    }\n",
       "</style>\n",
       "<table border=\"1\" class=\"dataframe\">\n",
       "  <thead>\n",
       "    <tr style=\"text-align: right;\">\n",
       "      <th></th>\n",
       "      <th>COLUMN NAME</th>\n",
       "      <th>MISSING VALUES</th>\n",
       "      <th>TOTAL ROWS</th>\n",
       "      <th>% MISSING</th>\n",
       "    </tr>\n",
       "  </thead>\n",
       "  <tbody>\n",
       "    <tr>\n",
       "      <th>0</th>\n",
       "      <td>row_id</td>\n",
       "      <td>0</td>\n",
       "      <td>41697600</td>\n",
       "      <td>0.00</td>\n",
       "    </tr>\n",
       "    <tr>\n",
       "      <th>1</th>\n",
       "      <td>building_id</td>\n",
       "      <td>0</td>\n",
       "      <td>41697600</td>\n",
       "      <td>0.00</td>\n",
       "    </tr>\n",
       "    <tr>\n",
       "      <th>2</th>\n",
       "      <td>meter</td>\n",
       "      <td>0</td>\n",
       "      <td>41697600</td>\n",
       "      <td>0.00</td>\n",
       "    </tr>\n",
       "    <tr>\n",
       "      <th>3</th>\n",
       "      <td>timestamp</td>\n",
       "      <td>0</td>\n",
       "      <td>41697600</td>\n",
       "      <td>0.00</td>\n",
       "    </tr>\n",
       "    <tr>\n",
       "      <th>4</th>\n",
       "      <td>site_id</td>\n",
       "      <td>0</td>\n",
       "      <td>41697600</td>\n",
       "      <td>0.00</td>\n",
       "    </tr>\n",
       "    <tr>\n",
       "      <th>5</th>\n",
       "      <td>primary_use</td>\n",
       "      <td>0</td>\n",
       "      <td>41697600</td>\n",
       "      <td>0.00</td>\n",
       "    </tr>\n",
       "    <tr>\n",
       "      <th>6</th>\n",
       "      <td>square_feet</td>\n",
       "      <td>0</td>\n",
       "      <td>41697600</td>\n",
       "      <td>0.00</td>\n",
       "    </tr>\n",
       "    <tr>\n",
       "      <th>7</th>\n",
       "      <td>air_temperature</td>\n",
       "      <td>221901</td>\n",
       "      <td>41697600</td>\n",
       "      <td>0.53</td>\n",
       "    </tr>\n",
       "    <tr>\n",
       "      <th>8</th>\n",
       "      <td>dew_temperature</td>\n",
       "      <td>260799</td>\n",
       "      <td>41697600</td>\n",
       "      <td>0.63</td>\n",
       "    </tr>\n",
       "    <tr>\n",
       "      <th>9</th>\n",
       "      <td>precip_depth_1_hr</td>\n",
       "      <td>7801563</td>\n",
       "      <td>41697600</td>\n",
       "      <td>18.71</td>\n",
       "    </tr>\n",
       "    <tr>\n",
       "      <th>10</th>\n",
       "      <td>sea_level_pressure</td>\n",
       "      <td>2516826</td>\n",
       "      <td>41697600</td>\n",
       "      <td>6.04</td>\n",
       "    </tr>\n",
       "    <tr>\n",
       "      <th>11</th>\n",
       "      <td>wind_direction</td>\n",
       "      <td>2978663</td>\n",
       "      <td>41697600</td>\n",
       "      <td>7.14</td>\n",
       "    </tr>\n",
       "    <tr>\n",
       "      <th>12</th>\n",
       "      <td>wind_speed</td>\n",
       "      <td>302089</td>\n",
       "      <td>41697600</td>\n",
       "      <td>0.72</td>\n",
       "    </tr>\n",
       "    <tr>\n",
       "      <th>13</th>\n",
       "      <td>hour</td>\n",
       "      <td>0</td>\n",
       "      <td>41697600</td>\n",
       "      <td>0.00</td>\n",
       "    </tr>\n",
       "    <tr>\n",
       "      <th>14</th>\n",
       "      <td>month</td>\n",
       "      <td>0</td>\n",
       "      <td>41697600</td>\n",
       "      <td>0.00</td>\n",
       "    </tr>\n",
       "    <tr>\n",
       "      <th>15</th>\n",
       "      <td>day</td>\n",
       "      <td>0</td>\n",
       "      <td>41697600</td>\n",
       "      <td>0.00</td>\n",
       "    </tr>\n",
       "  </tbody>\n",
       "</table>\n",
       "</div>"
      ],
      "text/plain": [
       "           COLUMN NAME  MISSING VALUES  TOTAL ROWS  % MISSING\n",
       "0               row_id               0    41697600       0.00\n",
       "1          building_id               0    41697600       0.00\n",
       "2                meter               0    41697600       0.00\n",
       "3            timestamp               0    41697600       0.00\n",
       "4              site_id               0    41697600       0.00\n",
       "5          primary_use               0    41697600       0.00\n",
       "6          square_feet               0    41697600       0.00\n",
       "7      air_temperature          221901    41697600       0.53\n",
       "8      dew_temperature          260799    41697600       0.63\n",
       "9    precip_depth_1_hr         7801563    41697600      18.71\n",
       "10  sea_level_pressure         2516826    41697600       6.04\n",
       "11      wind_direction         2978663    41697600       7.14\n",
       "12          wind_speed          302089    41697600       0.72\n",
       "13                hour               0    41697600       0.00\n",
       "14               month               0    41697600       0.00\n",
       "15                 day               0    41697600       0.00"
      ]
     },
     "execution_count": 5,
     "metadata": {},
     "output_type": "execute_result"
    }
   ],
   "source": [
    "missing_statistics(data_test)"
   ]
  },
  {
   "cell_type": "code",
   "execution_count": 6,
   "metadata": {
    "execution": {
     "iopub.execute_input": "2021-01-26T19:07:11.930787Z",
     "iopub.status.busy": "2021-01-26T19:07:11.930026Z",
     "iopub.status.idle": "2021-01-26T19:07:12.445028Z",
     "shell.execute_reply": "2021-01-26T19:07:12.444319Z"
    },
    "papermill": {
     "duration": 0.538296,
     "end_time": "2021-01-26T19:07:12.445172",
     "exception": false,
     "start_time": "2021-01-26T19:07:11.906876",
     "status": "completed"
    },
    "tags": []
   },
   "outputs": [],
   "source": [
    "training.loc[(training['site_id'] == 0) & (training['meter'] == 0), 'meter_reading'] = training[(training['site_id'] == 0) & (training['meter'] == 0)]['meter_reading'] * 0.2931"
   ]
  },
  {
   "cell_type": "code",
   "execution_count": 7,
   "metadata": {
    "execution": {
     "iopub.execute_input": "2021-01-26T19:07:13.423806Z",
     "iopub.status.busy": "2021-01-26T19:07:13.423105Z",
     "iopub.status.idle": "2021-01-26T19:07:17.208371Z",
     "shell.execute_reply": "2021-01-26T19:07:17.208942Z"
    },
    "papermill": {
     "duration": 4.746451,
     "end_time": "2021-01-26T19:07:17.209124",
     "exception": false,
     "start_time": "2021-01-26T19:07:12.462673",
     "status": "completed"
    },
    "tags": []
   },
   "outputs": [],
   "source": [
    "data_test = data_test.set_index(['site_id','hour','month'])\n"
   ]
  },
  {
   "cell_type": "code",
   "execution_count": 8,
   "metadata": {
    "execution": {
     "iopub.execute_input": "2021-01-26T19:07:17.251206Z",
     "iopub.status.busy": "2021-01-26T19:07:17.250541Z",
     "iopub.status.idle": "2021-01-26T19:18:54.652931Z",
     "shell.execute_reply": "2021-01-26T19:18:54.653731Z"
    },
    "papermill": {
     "duration": 697.426869,
     "end_time": "2021-01-26T19:18:54.653983",
     "exception": false,
     "start_time": "2021-01-26T19:07:17.227114",
     "status": "completed"
    },
    "tags": []
   },
   "outputs": [],
   "source": [
    "#filling air temperature\n",
    "air_temperature_filler = pd.DataFrame(training.groupby(['site_id','hour','month'])['air_temperature'].mean(),columns=[\"air_temperature\"])\n",
    "data_test.update(air_temperature_filler,overwrite=False)\n",
    "del air_temperature_filler"
   ]
  },
  {
   "cell_type": "code",
   "execution_count": 9,
   "metadata": {
    "execution": {
     "iopub.execute_input": "2021-01-26T19:18:54.697639Z",
     "iopub.status.busy": "2021-01-26T19:18:54.696542Z",
     "iopub.status.idle": "2021-01-26T19:30:04.101516Z",
     "shell.execute_reply": "2021-01-26T19:30:04.100901Z"
    },
    "papermill": {
     "duration": 669.429121,
     "end_time": "2021-01-26T19:30:04.101673",
     "exception": false,
     "start_time": "2021-01-26T19:18:54.672552",
     "status": "completed"
    },
    "tags": []
   },
   "outputs": [],
   "source": [
    "#filling due temperature\n",
    "due_temperature_filler = pd.DataFrame(training.groupby(['site_id','hour','month'])['dew_temperature'].mean(),columns=[\"dew_temperature\"])\n",
    "data_test.update(due_temperature_filler,overwrite=False)\n",
    "del due_temperature_filler"
   ]
  },
  {
   "cell_type": "code",
   "execution_count": 10,
   "metadata": {
    "execution": {
     "iopub.execute_input": "2021-01-26T19:30:04.143246Z",
     "iopub.status.busy": "2021-01-26T19:30:04.142564Z",
     "iopub.status.idle": "2021-01-26T19:41:13.104959Z",
     "shell.execute_reply": "2021-01-26T19:41:13.105475Z"
    },
    "papermill": {
     "duration": 668.985838,
     "end_time": "2021-01-26T19:41:13.105652",
     "exception": false,
     "start_time": "2021-01-26T19:30:04.119814",
     "status": "completed"
    },
    "tags": []
   },
   "outputs": [
    {
     "data": {
      "text/plain": [
       "0"
      ]
     },
     "execution_count": 10,
     "metadata": {},
     "output_type": "execute_result"
    }
   ],
   "source": [
    "\n",
    "# filling sea_level_pressure\n",
    "sea_level_filler = pd.DataFrame(training.groupby(['site_id','hour','month'])['sea_level_pressure'].mean(),columns=['sea_level_pressure'])\n",
    "data_test.update(sea_level_filler,overwrite=False)\n",
    "del sea_level_filler\n",
    "gc.collect()"
   ]
  },
  {
   "cell_type": "code",
   "execution_count": 11,
   "metadata": {
    "execution": {
     "iopub.execute_input": "2021-01-26T19:41:13.148466Z",
     "iopub.status.busy": "2021-01-26T19:41:13.147786Z",
     "iopub.status.idle": "2021-01-26T19:52:40.240888Z",
     "shell.execute_reply": "2021-01-26T19:52:40.239627Z"
    },
    "papermill": {
     "duration": 687.117162,
     "end_time": "2021-01-26T19:52:40.241063",
     "exception": false,
     "start_time": "2021-01-26T19:41:13.123901",
     "status": "completed"
    },
    "tags": []
   },
   "outputs": [],
   "source": [
    "\n",
    "#filling wind_direction\n",
    "wind_direction_filler =  pd.DataFrame(training.groupby(['site_id','hour','month'])['wind_direction'].mean(),columns=['wind_direction'])\n",
    "data_test.update(wind_direction_filler,overwrite=False)\n",
    "del wind_direction_filler"
   ]
  },
  {
   "cell_type": "code",
   "execution_count": 12,
   "metadata": {
    "execution": {
     "iopub.execute_input": "2021-01-26T19:52:40.284635Z",
     "iopub.status.busy": "2021-01-26T19:52:40.284005Z",
     "iopub.status.idle": "2021-01-26T20:04:02.555801Z",
     "shell.execute_reply": "2021-01-26T20:04:02.556363Z"
    },
    "papermill": {
     "duration": 682.296562,
     "end_time": "2021-01-26T20:04:02.556590",
     "exception": false,
     "start_time": "2021-01-26T19:52:40.260028",
     "status": "completed"
    },
    "tags": []
   },
   "outputs": [
    {
     "data": {
      "text/plain": [
       "0"
      ]
     },
     "execution_count": 12,
     "metadata": {},
     "output_type": "execute_result"
    }
   ],
   "source": [
    "#filling  wind speed\n",
    "wind_speed_filler =  pd.DataFrame(training.groupby(['site_id','hour','month'])['wind_speed'].mean(),columns=['wind_speed'])\n",
    "data_test.update(wind_speed_filler,overwrite=False)\n",
    "del wind_speed_filler\n",
    "gc.collect()"
   ]
  },
  {
   "cell_type": "code",
   "execution_count": 13,
   "metadata": {
    "execution": {
     "iopub.execute_input": "2021-01-26T20:04:02.601459Z",
     "iopub.status.busy": "2021-01-26T20:04:02.600808Z",
     "iopub.status.idle": "2021-01-26T20:15:19.243339Z",
     "shell.execute_reply": "2021-01-26T20:15:19.243865Z"
    },
    "papermill": {
     "duration": 676.668188,
     "end_time": "2021-01-26T20:15:19.244062",
     "exception": false,
     "start_time": "2021-01-26T20:04:02.575874",
     "status": "completed"
    },
    "tags": []
   },
   "outputs": [
    {
     "data": {
      "text/plain": [
       "0"
      ]
     },
     "execution_count": 13,
     "metadata": {},
     "output_type": "execute_result"
    }
   ],
   "source": [
    "#filling precip depth\n",
    "precip_depth_filler = pd.DataFrame(training.groupby(['site_id','hour','month'])['precip_depth_1_hr'].mean(),columns=['precip_depth_1_hr'])\n",
    "data_test.update(precip_depth_filler,overwrite=False)\n",
    "del precip_depth_filler\n",
    "gc.collect()"
   ]
  },
  {
   "cell_type": "code",
   "execution_count": 14,
   "metadata": {
    "execution": {
     "iopub.execute_input": "2021-01-26T20:15:19.289002Z",
     "iopub.status.busy": "2021-01-26T20:15:19.287934Z",
     "iopub.status.idle": "2021-01-26T20:15:22.470382Z",
     "shell.execute_reply": "2021-01-26T20:15:22.469743Z"
    },
    "papermill": {
     "duration": 3.207059,
     "end_time": "2021-01-26T20:15:22.470532",
     "exception": false,
     "start_time": "2021-01-26T20:15:19.263473",
     "status": "completed"
    },
    "tags": []
   },
   "outputs": [],
   "source": [
    "data_test.reset_index(inplace=True)\n"
   ]
  },
  {
   "cell_type": "code",
   "execution_count": 15,
   "metadata": {
    "execution": {
     "iopub.execute_input": "2021-01-26T20:15:30.860433Z",
     "iopub.status.busy": "2021-01-26T20:15:30.859735Z",
     "iopub.status.idle": "2021-01-26T20:15:32.160394Z",
     "shell.execute_reply": "2021-01-26T20:15:32.160874Z"
    },
    "papermill": {
     "duration": 9.670514,
     "end_time": "2021-01-26T20:15:32.161063",
     "exception": false,
     "start_time": "2021-01-26T20:15:22.490549",
     "status": "completed"
    },
    "tags": []
   },
   "outputs": [
    {
     "data": {
      "text/html": [
       "<div>\n",
       "<style scoped>\n",
       "    .dataframe tbody tr th:only-of-type {\n",
       "        vertical-align: middle;\n",
       "    }\n",
       "\n",
       "    .dataframe tbody tr th {\n",
       "        vertical-align: top;\n",
       "    }\n",
       "\n",
       "    .dataframe thead th {\n",
       "        text-align: right;\n",
       "    }\n",
       "</style>\n",
       "<table border=\"1\" class=\"dataframe\">\n",
       "  <thead>\n",
       "    <tr style=\"text-align: right;\">\n",
       "      <th></th>\n",
       "      <th>COLUMN NAME</th>\n",
       "      <th>MISSING VALUES</th>\n",
       "      <th>TOTAL ROWS</th>\n",
       "      <th>% MISSING</th>\n",
       "    </tr>\n",
       "  </thead>\n",
       "  <tbody>\n",
       "    <tr>\n",
       "      <th>0</th>\n",
       "      <td>site_id</td>\n",
       "      <td>0</td>\n",
       "      <td>41697600</td>\n",
       "      <td>0.0</td>\n",
       "    </tr>\n",
       "    <tr>\n",
       "      <th>1</th>\n",
       "      <td>hour</td>\n",
       "      <td>0</td>\n",
       "      <td>41697600</td>\n",
       "      <td>0.0</td>\n",
       "    </tr>\n",
       "    <tr>\n",
       "      <th>2</th>\n",
       "      <td>month</td>\n",
       "      <td>0</td>\n",
       "      <td>41697600</td>\n",
       "      <td>0.0</td>\n",
       "    </tr>\n",
       "    <tr>\n",
       "      <th>3</th>\n",
       "      <td>row_id</td>\n",
       "      <td>0</td>\n",
       "      <td>41697600</td>\n",
       "      <td>0.0</td>\n",
       "    </tr>\n",
       "    <tr>\n",
       "      <th>4</th>\n",
       "      <td>building_id</td>\n",
       "      <td>0</td>\n",
       "      <td>41697600</td>\n",
       "      <td>0.0</td>\n",
       "    </tr>\n",
       "    <tr>\n",
       "      <th>5</th>\n",
       "      <td>meter</td>\n",
       "      <td>0</td>\n",
       "      <td>41697600</td>\n",
       "      <td>0.0</td>\n",
       "    </tr>\n",
       "    <tr>\n",
       "      <th>6</th>\n",
       "      <td>timestamp</td>\n",
       "      <td>0</td>\n",
       "      <td>41697600</td>\n",
       "      <td>0.0</td>\n",
       "    </tr>\n",
       "    <tr>\n",
       "      <th>7</th>\n",
       "      <td>primary_use</td>\n",
       "      <td>0</td>\n",
       "      <td>41697600</td>\n",
       "      <td>0.0</td>\n",
       "    </tr>\n",
       "    <tr>\n",
       "      <th>8</th>\n",
       "      <td>square_feet</td>\n",
       "      <td>0</td>\n",
       "      <td>41697600</td>\n",
       "      <td>0.0</td>\n",
       "    </tr>\n",
       "    <tr>\n",
       "      <th>9</th>\n",
       "      <td>air_temperature</td>\n",
       "      <td>0</td>\n",
       "      <td>41697600</td>\n",
       "      <td>0.0</td>\n",
       "    </tr>\n",
       "    <tr>\n",
       "      <th>10</th>\n",
       "      <td>dew_temperature</td>\n",
       "      <td>0</td>\n",
       "      <td>41697600</td>\n",
       "      <td>0.0</td>\n",
       "    </tr>\n",
       "    <tr>\n",
       "      <th>11</th>\n",
       "      <td>precip_depth_1_hr</td>\n",
       "      <td>0</td>\n",
       "      <td>41697600</td>\n",
       "      <td>0.0</td>\n",
       "    </tr>\n",
       "    <tr>\n",
       "      <th>12</th>\n",
       "      <td>sea_level_pressure</td>\n",
       "      <td>0</td>\n",
       "      <td>41697600</td>\n",
       "      <td>0.0</td>\n",
       "    </tr>\n",
       "    <tr>\n",
       "      <th>13</th>\n",
       "      <td>wind_direction</td>\n",
       "      <td>0</td>\n",
       "      <td>41697600</td>\n",
       "      <td>0.0</td>\n",
       "    </tr>\n",
       "    <tr>\n",
       "      <th>14</th>\n",
       "      <td>wind_speed</td>\n",
       "      <td>0</td>\n",
       "      <td>41697600</td>\n",
       "      <td>0.0</td>\n",
       "    </tr>\n",
       "    <tr>\n",
       "      <th>15</th>\n",
       "      <td>day</td>\n",
       "      <td>0</td>\n",
       "      <td>41697600</td>\n",
       "      <td>0.0</td>\n",
       "    </tr>\n",
       "  </tbody>\n",
       "</table>\n",
       "</div>"
      ],
      "text/plain": [
       "           COLUMN NAME  MISSING VALUES  TOTAL ROWS  % MISSING\n",
       "0              site_id               0    41697600        0.0\n",
       "1                 hour               0    41697600        0.0\n",
       "2                month               0    41697600        0.0\n",
       "3               row_id               0    41697600        0.0\n",
       "4          building_id               0    41697600        0.0\n",
       "5                meter               0    41697600        0.0\n",
       "6            timestamp               0    41697600        0.0\n",
       "7          primary_use               0    41697600        0.0\n",
       "8          square_feet               0    41697600        0.0\n",
       "9      air_temperature               0    41697600        0.0\n",
       "10     dew_temperature               0    41697600        0.0\n",
       "11   precip_depth_1_hr               0    41697600        0.0\n",
       "12  sea_level_pressure               0    41697600        0.0\n",
       "13      wind_direction               0    41697600        0.0\n",
       "14          wind_speed               0    41697600        0.0\n",
       "15                 day               0    41697600        0.0"
      ]
     },
     "execution_count": 15,
     "metadata": {},
     "output_type": "execute_result"
    }
   ],
   "source": [
    "missing_statistics(data_test)"
   ]
  },
  {
   "cell_type": "code",
   "execution_count": 16,
   "metadata": {
    "execution": {
     "iopub.execute_input": "2021-01-26T20:15:32.205202Z",
     "iopub.status.busy": "2021-01-26T20:15:32.204232Z",
     "iopub.status.idle": "2021-01-26T20:15:35.185879Z",
     "shell.execute_reply": "2021-01-26T20:15:35.185288Z"
    },
    "papermill": {
     "duration": 3.005041,
     "end_time": "2021-01-26T20:15:35.186050",
     "exception": false,
     "start_time": "2021-01-26T20:15:32.181009",
     "status": "completed"
    },
    "tags": []
   },
   "outputs": [],
   "source": [
    "msk = training['week'] % 4 == 0\n",
    "\n",
    "df_train = training[~msk]\n",
    "df_val  = training[msk]"
   ]
  },
  {
   "cell_type": "code",
   "execution_count": 17,
   "metadata": {
    "execution": {
     "iopub.execute_input": "2021-01-26T20:15:35.231681Z",
     "iopub.status.busy": "2021-01-26T20:15:35.231054Z",
     "iopub.status.idle": "2021-01-26T20:15:35.235843Z",
     "shell.execute_reply": "2021-01-26T20:15:35.235344Z"
    },
    "papermill": {
     "duration": 0.029817,
     "end_time": "2021-01-26T20:15:35.235985",
     "exception": false,
     "start_time": "2021-01-26T20:15:35.206168",
     "status": "completed"
    },
    "tags": []
   },
   "outputs": [
    {
     "data": {
      "text/plain": [
       "4928764"
      ]
     },
     "execution_count": 17,
     "metadata": {},
     "output_type": "execute_result"
    }
   ],
   "source": [
    "df_val.shape[0] #25% of train data for validation\n"
   ]
  },
  {
   "cell_type": "code",
   "execution_count": 18,
   "metadata": {
    "execution": {
     "iopub.execute_input": "2021-01-26T20:15:35.282444Z",
     "iopub.status.busy": "2021-01-26T20:15:35.281808Z",
     "iopub.status.idle": "2021-01-26T20:15:35.284780Z",
     "shell.execute_reply": "2021-01-26T20:15:35.285330Z"
    },
    "papermill": {
     "duration": 0.028663,
     "end_time": "2021-01-26T20:15:35.285501",
     "exception": false,
     "start_time": "2021-01-26T20:15:35.256838",
     "status": "completed"
    },
    "tags": []
   },
   "outputs": [
    {
     "data": {
      "text/plain": [
       "15196570"
      ]
     },
     "execution_count": 18,
     "metadata": {},
     "output_type": "execute_result"
    }
   ],
   "source": [
    "\n",
    "df_train.shape[0] #70"
   ]
  },
  {
   "cell_type": "code",
   "execution_count": 19,
   "metadata": {
    "execution": {
     "iopub.execute_input": "2021-01-26T20:15:35.330759Z",
     "iopub.status.busy": "2021-01-26T20:15:35.330108Z",
     "iopub.status.idle": "2021-01-26T20:22:51.423442Z",
     "shell.execute_reply": "2021-01-26T20:22:51.424003Z"
    },
    "papermill": {
     "duration": 436.117818,
     "end_time": "2021-01-26T20:22:51.424217",
     "exception": false,
     "start_time": "2021-01-26T20:15:35.306399",
     "status": "completed"
    },
    "tags": []
   },
   "outputs": [],
   "source": [
    "data_test.to_csv('data_test.csv', index=False)\n"
   ]
  },
  {
   "cell_type": "code",
   "execution_count": 20,
   "metadata": {
    "execution": {
     "iopub.execute_input": "2021-01-26T20:22:51.473818Z",
     "iopub.status.busy": "2021-01-26T20:22:51.472841Z",
     "iopub.status.idle": "2021-01-26T20:26:40.665805Z",
     "shell.execute_reply": "2021-01-26T20:26:40.665182Z"
    },
    "papermill": {
     "duration": 229.21982,
     "end_time": "2021-01-26T20:26:40.665973",
     "exception": false,
     "start_time": "2021-01-26T20:22:51.446153",
     "status": "completed"
    },
    "tags": []
   },
   "outputs": [],
   "source": [
    "df_train.to_csv('df_train.csv', index=False)\n",
    "df_val.to_csv('df_val.csv', index=False)"
   ]
  },
  {
   "cell_type": "code",
   "execution_count": null,
   "metadata": {
    "papermill": {
     "duration": 0.021894,
     "end_time": "2021-01-26T20:26:40.710738",
     "exception": false,
     "start_time": "2021-01-26T20:26:40.688844",
     "status": "completed"
    },
    "tags": []
   },
   "outputs": [],
   "source": []
  },
  {
   "cell_type": "code",
   "execution_count": null,
   "metadata": {
    "papermill": {
     "duration": 0.021601,
     "end_time": "2021-01-26T20:26:40.754845",
     "exception": false,
     "start_time": "2021-01-26T20:26:40.733244",
     "status": "completed"
    },
    "tags": []
   },
   "outputs": [],
   "source": []
  }
 ],
 "metadata": {
  "kernelspec": {
   "display_name": "Python 3",
   "language": "python",
   "name": "python3"
  },
  "language_info": {
   "codemirror_mode": {
    "name": "ipython",
    "version": 3
   },
   "file_extension": ".py",
   "mimetype": "text/x-python",
   "name": "python",
   "nbconvert_exporter": "python",
   "pygments_lexer": "ipython3",
   "version": "3.7.9"
  },
  "papermill": {
   "default_parameters": {},
   "duration": 4956.293271,
   "end_time": "2021-01-26T20:26:41.989814",
   "environment_variables": {},
   "exception": null,
   "input_path": "__notebook__.ipynb",
   "output_path": "__notebook__.ipynb",
   "parameters": {},
   "start_time": "2021-01-26T19:04:05.696543",
   "version": "2.2.2"
  }
 },
 "nbformat": 4,
 "nbformat_minor": 4
}
